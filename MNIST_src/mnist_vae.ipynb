{
 "cells": [
  {
   "cell_type": "code",
   "execution_count": 14,
   "metadata": {},
   "outputs": [],
   "source": [
    "import numpy as np\n",
    "import torch\n",
    "from torch import nn\n",
    "from torch.nn import functional as F\n",
    "import torchvision\n",
    "from torch.utils.data import DataLoader\n",
    "from tqdm.notebook import tqdm\n",
    "from sklearn.manifold import TSNE\n",
    "import matplotlib.pyplot as plt"
   ]
  },
  {
   "cell_type": "code",
   "execution_count": 15,
   "metadata": {},
   "outputs": [],
   "source": [
    "class Encoder(nn.Module):\n",
    "    def __init__(self,dim_x,dim_w) -> None:\n",
    "        super().__init__()\n",
    "        self.network=nn.Sequential(nn.Linear(784,200),nn.LayerNorm(200),nn.GELU(),nn.Linear(200,100),nn.LayerNorm(100),nn.GELU())\n",
    "        self.infer_w=nn.Linear(100,dim_w*2)\n",
    "        self.infer_x=nn.Linear(100,dim_x*2)\n",
    "    def forward(self,inp):\n",
    "        inp=self.network(inp)\n",
    "        return (torch.chunk(self.infer_w(inp),2,dim=-1),torch.chunk(self.infer_x(inp),2,dim=-1))\n",
    "\n",
    "class Decoder(nn.Module):\n",
    "    def __init__(self,dim_x) -> None:\n",
    "        super().__init__()\n",
    "        self.network=nn.Sequential(nn.Linear(dim_x,100),nn.LayerNorm(100),nn.GELU(),nn.Linear(100,200),nn.LayerNorm(200),nn.GELU(),nn.Linear(200,784))\n",
    "    \n",
    "    def forward(self,x):\n",
    "        return self.network(x)\n",
    "    \n",
    "    def log_prob(self,x,y):\n",
    "        xp=self.network(x)\n",
    "        return F.binary_cross_entropy_with_logits(xp,y,reduction=\"none\")\n",
    "    \n",
    "def log_like_gaussian(mean,std,point):\n",
    "    return torch.sum(-(point-mean)**2/(2*std**2),dim=-1)\n",
    "\n",
    "def KL_gaussian(mu_1,sigma_1_log,mu_2,sigma_2_log):\n",
    "    return torch.sum(-sigma_1_log+sigma_2_log+(torch.exp(2*sigma_1_log)+(mu_1-mu_2)**2)/(2*torch.exp(sigma_2_log*2))-1/2,dim=-1)\n",
    "\n",
    "def KL_categorical(probs_1,probs_2):\n",
    "    return torch.sum(probs_1*(torch.log(probs_1+1e-5)-torch.log(probs_2+1e-5)),dim=0)\n",
    "\n",
    "class GMVAE(nn.Module):\n",
    "    def __init__(self,dim_x,dim_w,K) -> None:\n",
    "        super().__init__()\n",
    "        self.encoder=Encoder(dim_x,dim_w)\n",
    "        self.GMM=nn.Sequential(nn.Linear(dim_w,500),nn.GELU(),nn.Linear(500,2*K*dim_x))\n",
    "        self.decoder=Decoder(dim_x)\n",
    "        self.K=K\n",
    "        self.dim_x=dim_x\n",
    "        self.dim_w=dim_w\n",
    "\n",
    "    def forward(self,y,M):\n",
    "        batch=y.shape[0]\n",
    "        ((w_mu,w_sigma_log),(x_mu,x_sigma_log))=self.encoder(y)\n",
    "        x=torch.randn([M,*x_mu.shape]).to(x_mu.device)*torch.exp(x_sigma_log)+x_mu\n",
    "        w=torch.randn([M,*w_mu.shape]).to(x_mu.device)*torch.exp(w_sigma_log)+w_mu\n",
    "        means,log_std=torch.chunk(self.GMM(w).reshape(self.K,M,batch,self.dim_x,2),2,dim=4)\n",
    "        log_std=log_std.squeeze(-1)\n",
    "        std=torch.exp(log_std)\n",
    "        means=means.squeeze(-1)\n",
    "        log_probs=log_like_gaussian(means,std,x)\n",
    "        z_posterior=F.softmax(log_probs,dim=0)\n",
    "        KL_w_prior=KL_gaussian(w_mu,w_sigma_log,torch.zeros_like(w_mu),torch.zeros_like(w_sigma_log))\n",
    "        KL_z_prior=KL_categorical(torch.ones_like(z_posterior)/self.K,z_posterior)\n",
    "        conditional_prior=torch.sum(z_posterior*KL_gaussian(x_mu,x_sigma_log,means,log_std),dim=0)\n",
    "        rec_los=torch.sum(self.decoder.log_prob(x,y.unsqueeze(0).expand(M,*y.shape)),axis=-1)\n",
    "        return torch.mean(rec_los+KL_w_prior+KL_z_prior+conditional_prior,axis=0)\n",
    "    \n",
    "    def latent(self,y):\n",
    "        ((w_mu,w_sigma_log),(x_mu,x_sigma_log))=self.encoder(y)\n",
    "        return x_mu\n",
    "    \n",
    "    def predict(self,y):\n",
    "        ((w_mu,w_sigma_log),(x_mu,x_sigma_log))=self.encoder(y)\n",
    "        x=torch.rand_like(x_mu)*torch.exp(x_sigma_log)+x_mu\n",
    "        return torch.sigmoid(self.decoder(x))"
   ]
  },
  {
   "cell_type": "code",
   "execution_count": 16,
   "metadata": {},
   "outputs": [],
   "source": [
    "model=GMVAE(200,150,10)\n",
    "optim=torch.optim.Adam(model.parameters(),lr=0.0005)\n",
    "transform = torchvision.transforms.Compose([torchvision.transforms.ToTensor(),])\n",
    "device=\"cuda\"\n",
    "model=model.to(device)\n",
    "M=10"
   ]
  },
  {
   "cell_type": "code",
   "execution_count": 17,
   "metadata": {},
   "outputs": [],
   "source": [
    "data=torchvision.datasets.MNIST(\".\",download=True,transform=transform)\n",
    "data_test=torchvision.datasets.MNIST(\".\",download=True,transform=transform,train=False)"
   ]
  },
  {
   "cell_type": "code",
   "execution_count": 18,
   "metadata": {},
   "outputs": [],
   "source": [
    "data_loader=DataLoader(data,128,True)\n",
    "data_loader_test=DataLoader(data_test,128,True)"
   ]
  },
  {
   "cell_type": "code",
   "execution_count": 19,
   "metadata": {},
   "outputs": [
    {
     "data": {
      "application/vnd.jupyter.widget-view+json": {
       "model_id": "62729fb59edc4ce28ae21ce15ef5d79d",
       "version_major": 2,
       "version_minor": 0
      },
      "text/plain": [
       "training:   0%|          | 0/469 [00:00<?, ?it/s]"
      ]
     },
     "metadata": {},
     "output_type": "display_data"
    },
    {
     "data": {
      "application/vnd.jupyter.widget-view+json": {
       "model_id": "f0603a6314994af780965c316e78928b",
       "version_major": 2,
       "version_minor": 0
      },
      "text/plain": [
       "evaluation:   0%|          | 0/79 [00:00<?, ?it/s]"
      ]
     },
     "metadata": {},
     "output_type": "display_data"
    },
    {
     "name": "stdout",
     "output_type": "stream",
     "text": [
      "epoche: 0,loss: 228.85, test loss: 206.37\n"
     ]
    },
    {
     "data": {
      "application/vnd.jupyter.widget-view+json": {
       "model_id": "835961f78fd04723a85f937b35e841ff",
       "version_major": 2,
       "version_minor": 0
      },
      "text/plain": [
       "training:   0%|          | 0/469 [00:00<?, ?it/s]"
      ]
     },
     "metadata": {},
     "output_type": "display_data"
    },
    {
     "data": {
      "application/vnd.jupyter.widget-view+json": {
       "model_id": "803177c42d844237b4a944511499716d",
       "version_major": 2,
       "version_minor": 0
      },
      "text/plain": [
       "evaluation:   0%|          | 0/79 [00:00<?, ?it/s]"
      ]
     },
     "metadata": {},
     "output_type": "display_data"
    },
    {
     "name": "stdout",
     "output_type": "stream",
     "text": [
      "epoche: 1,loss: 206.27, test loss: 201.03\n"
     ]
    },
    {
     "data": {
      "application/vnd.jupyter.widget-view+json": {
       "model_id": "10e820382b8e4c1db6f262f1cfd4a689",
       "version_major": 2,
       "version_minor": 0
      },
      "text/plain": [
       "training:   0%|          | 0/469 [00:00<?, ?it/s]"
      ]
     },
     "metadata": {},
     "output_type": "display_data"
    },
    {
     "data": {
      "application/vnd.jupyter.widget-view+json": {
       "model_id": "eac081cdfc324747bbf9e23b7c7f8152",
       "version_major": 2,
       "version_minor": 0
      },
      "text/plain": [
       "evaluation:   0%|          | 0/79 [00:00<?, ?it/s]"
      ]
     },
     "metadata": {},
     "output_type": "display_data"
    },
    {
     "name": "stdout",
     "output_type": "stream",
     "text": [
      "epoche: 2,loss: 190.61, test loss: 177.42\n"
     ]
    },
    {
     "data": {
      "application/vnd.jupyter.widget-view+json": {
       "model_id": "f3c43ba4a1134c6490d1a437eabc88d2",
       "version_major": 2,
       "version_minor": 0
      },
      "text/plain": [
       "training:   0%|          | 0/469 [00:00<?, ?it/s]"
      ]
     },
     "metadata": {},
     "output_type": "display_data"
    },
    {
     "data": {
      "application/vnd.jupyter.widget-view+json": {
       "model_id": "5369b6ccec634d32933f280fe450915e",
       "version_major": 2,
       "version_minor": 0
      },
      "text/plain": [
       "evaluation:   0%|          | 0/79 [00:00<?, ?it/s]"
      ]
     },
     "metadata": {},
     "output_type": "display_data"
    },
    {
     "name": "stdout",
     "output_type": "stream",
     "text": [
      "epoche: 3,loss: 163.84, test loss: 148.32\n"
     ]
    },
    {
     "data": {
      "application/vnd.jupyter.widget-view+json": {
       "model_id": "7dc8cba478da46ca9521a1ac2c90707c",
       "version_major": 2,
       "version_minor": 0
      },
      "text/plain": [
       "training:   0%|          | 0/469 [00:00<?, ?it/s]"
      ]
     },
     "metadata": {},
     "output_type": "display_data"
    },
    {
     "data": {
      "application/vnd.jupyter.widget-view+json": {
       "model_id": "ebe360979c2c4a7f88ad1f365ad3b167",
       "version_major": 2,
       "version_minor": 0
      },
      "text/plain": [
       "evaluation:   0%|          | 0/79 [00:00<?, ?it/s]"
      ]
     },
     "metadata": {},
     "output_type": "display_data"
    },
    {
     "name": "stdout",
     "output_type": "stream",
     "text": [
      "epoche: 4,loss: 139.72, test loss: 132.63\n"
     ]
    },
    {
     "data": {
      "application/vnd.jupyter.widget-view+json": {
       "model_id": "3e58ffac350c4bef8cad400389266ccf",
       "version_major": 2,
       "version_minor": 0
      },
      "text/plain": [
       "training:   0%|          | 0/469 [00:00<?, ?it/s]"
      ]
     },
     "metadata": {},
     "output_type": "display_data"
    },
    {
     "data": {
      "application/vnd.jupyter.widget-view+json": {
       "model_id": "8bb336fdd279454c951433c3fa3000af",
       "version_major": 2,
       "version_minor": 0
      },
      "text/plain": [
       "evaluation:   0%|          | 0/79 [00:00<?, ?it/s]"
      ]
     },
     "metadata": {},
     "output_type": "display_data"
    },
    {
     "name": "stdout",
     "output_type": "stream",
     "text": [
      "epoche: 5,loss: 129.27, test loss: 125.12\n"
     ]
    },
    {
     "data": {
      "application/vnd.jupyter.widget-view+json": {
       "model_id": "c3908f6428f2421791e13432528ea46a",
       "version_major": 2,
       "version_minor": 0
      },
      "text/plain": [
       "training:   0%|          | 0/469 [00:00<?, ?it/s]"
      ]
     },
     "metadata": {},
     "output_type": "display_data"
    },
    {
     "data": {
      "application/vnd.jupyter.widget-view+json": {
       "model_id": "7f0dc424ffaf4470b6395d8e399d8e28",
       "version_major": 2,
       "version_minor": 0
      },
      "text/plain": [
       "evaluation:   0%|          | 0/79 [00:00<?, ?it/s]"
      ]
     },
     "metadata": {},
     "output_type": "display_data"
    },
    {
     "name": "stdout",
     "output_type": "stream",
     "text": [
      "epoche: 6,loss: 123.33, test loss: 119.67\n"
     ]
    },
    {
     "data": {
      "application/vnd.jupyter.widget-view+json": {
       "model_id": "5dc2fbcaf56d4a67b0a3678a989c5d89",
       "version_major": 2,
       "version_minor": 0
      },
      "text/plain": [
       "training:   0%|          | 0/469 [00:00<?, ?it/s]"
      ]
     },
     "metadata": {},
     "output_type": "display_data"
    },
    {
     "data": {
      "application/vnd.jupyter.widget-view+json": {
       "model_id": "1148fe95fc9743aa8830c91b534f9ccb",
       "version_major": 2,
       "version_minor": 0
      },
      "text/plain": [
       "evaluation:   0%|          | 0/79 [00:00<?, ?it/s]"
      ]
     },
     "metadata": {},
     "output_type": "display_data"
    },
    {
     "name": "stdout",
     "output_type": "stream",
     "text": [
      "epoche: 7,loss: 118.61, test loss: 116.42\n"
     ]
    },
    {
     "data": {
      "application/vnd.jupyter.widget-view+json": {
       "model_id": "83e11113f3ab4300b1af93f608f77f38",
       "version_major": 2,
       "version_minor": 0
      },
      "text/plain": [
       "training:   0%|          | 0/469 [00:00<?, ?it/s]"
      ]
     },
     "metadata": {},
     "output_type": "display_data"
    },
    {
     "data": {
      "application/vnd.jupyter.widget-view+json": {
       "model_id": "06857ec83a4e452d86f3c18e540a00c0",
       "version_major": 2,
       "version_minor": 0
      },
      "text/plain": [
       "evaluation:   0%|          | 0/79 [00:00<?, ?it/s]"
      ]
     },
     "metadata": {},
     "output_type": "display_data"
    },
    {
     "name": "stdout",
     "output_type": "stream",
     "text": [
      "epoche: 8,loss: 115.96, test loss: 114.14\n"
     ]
    },
    {
     "data": {
      "application/vnd.jupyter.widget-view+json": {
       "model_id": "43d608263feb498dbda8b09b99f5a4d1",
       "version_major": 2,
       "version_minor": 0
      },
      "text/plain": [
       "training:   0%|          | 0/469 [00:00<?, ?it/s]"
      ]
     },
     "metadata": {},
     "output_type": "display_data"
    },
    {
     "data": {
      "application/vnd.jupyter.widget-view+json": {
       "model_id": "3f922537bb91492faf3af7dedf8e54a3",
       "version_major": 2,
       "version_minor": 0
      },
      "text/plain": [
       "evaluation:   0%|          | 0/79 [00:00<?, ?it/s]"
      ]
     },
     "metadata": {},
     "output_type": "display_data"
    },
    {
     "name": "stdout",
     "output_type": "stream",
     "text": [
      "epoche: 9,loss: 114.01, test loss: 112.52\n"
     ]
    },
    {
     "data": {
      "application/vnd.jupyter.widget-view+json": {
       "model_id": "78f1349580914954ae497cb6f3ffe82c",
       "version_major": 2,
       "version_minor": 0
      },
      "text/plain": [
       "training:   0%|          | 0/469 [00:00<?, ?it/s]"
      ]
     },
     "metadata": {},
     "output_type": "display_data"
    },
    {
     "data": {
      "application/vnd.jupyter.widget-view+json": {
       "model_id": "ba8bc994c4c64de9af03bfc2fc9477e9",
       "version_major": 2,
       "version_minor": 0
      },
      "text/plain": [
       "evaluation:   0%|          | 0/79 [00:00<?, ?it/s]"
      ]
     },
     "metadata": {},
     "output_type": "display_data"
    },
    {
     "name": "stdout",
     "output_type": "stream",
     "text": [
      "epoche: 10,loss: 112.38, test loss: 111.18\n"
     ]
    },
    {
     "data": {
      "application/vnd.jupyter.widget-view+json": {
       "model_id": "fe37136ef74045ceaaa4d379ea434a72",
       "version_major": 2,
       "version_minor": 0
      },
      "text/plain": [
       "training:   0%|          | 0/469 [00:00<?, ?it/s]"
      ]
     },
     "metadata": {},
     "output_type": "display_data"
    },
    {
     "data": {
      "application/vnd.jupyter.widget-view+json": {
       "model_id": "1025128cbbf84574928eecf5196c09e0",
       "version_major": 2,
       "version_minor": 0
      },
      "text/plain": [
       "evaluation:   0%|          | 0/79 [00:00<?, ?it/s]"
      ]
     },
     "metadata": {},
     "output_type": "display_data"
    },
    {
     "name": "stdout",
     "output_type": "stream",
     "text": [
      "epoche: 11,loss: 111.08, test loss: 110.00\n"
     ]
    },
    {
     "data": {
      "application/vnd.jupyter.widget-view+json": {
       "model_id": "f4e7b42a564c4531b1bafc73941e0f35",
       "version_major": 2,
       "version_minor": 0
      },
      "text/plain": [
       "training:   0%|          | 0/469 [00:00<?, ?it/s]"
      ]
     },
     "metadata": {},
     "output_type": "display_data"
    },
    {
     "data": {
      "application/vnd.jupyter.widget-view+json": {
       "model_id": "877424ce90bc4155b8ea224b0e924079",
       "version_major": 2,
       "version_minor": 0
      },
      "text/plain": [
       "evaluation:   0%|          | 0/79 [00:00<?, ?it/s]"
      ]
     },
     "metadata": {},
     "output_type": "display_data"
    },
    {
     "name": "stdout",
     "output_type": "stream",
     "text": [
      "epoche: 12,loss: 109.79, test loss: 108.78\n"
     ]
    },
    {
     "data": {
      "application/vnd.jupyter.widget-view+json": {
       "model_id": "f839866c066b4a989dc2601fdc9e46f2",
       "version_major": 2,
       "version_minor": 0
      },
      "text/plain": [
       "training:   0%|          | 0/469 [00:00<?, ?it/s]"
      ]
     },
     "metadata": {},
     "output_type": "display_data"
    },
    {
     "data": {
      "application/vnd.jupyter.widget-view+json": {
       "model_id": "8e7aca2303f74a1988f26d2b565fef61",
       "version_major": 2,
       "version_minor": 0
      },
      "text/plain": [
       "evaluation:   0%|          | 0/79 [00:00<?, ?it/s]"
      ]
     },
     "metadata": {},
     "output_type": "display_data"
    },
    {
     "name": "stdout",
     "output_type": "stream",
     "text": [
      "epoche: 13,loss: 108.38, test loss: 107.49\n"
     ]
    },
    {
     "data": {
      "application/vnd.jupyter.widget-view+json": {
       "model_id": "f2165c3b9d9643e191d71972a0bda438",
       "version_major": 2,
       "version_minor": 0
      },
      "text/plain": [
       "training:   0%|          | 0/469 [00:00<?, ?it/s]"
      ]
     },
     "metadata": {},
     "output_type": "display_data"
    },
    {
     "data": {
      "application/vnd.jupyter.widget-view+json": {
       "model_id": "995ac3f9d5e541b08d2e3b8a9c81cbd3",
       "version_major": 2,
       "version_minor": 0
      },
      "text/plain": [
       "evaluation:   0%|          | 0/79 [00:00<?, ?it/s]"
      ]
     },
     "metadata": {},
     "output_type": "display_data"
    },
    {
     "name": "stdout",
     "output_type": "stream",
     "text": [
      "epoche: 14,loss: 107.37, test loss: 106.83\n"
     ]
    },
    {
     "data": {
      "application/vnd.jupyter.widget-view+json": {
       "model_id": "0e1c8e75cf40426487861ab532179f22",
       "version_major": 2,
       "version_minor": 0
      },
      "text/plain": [
       "training:   0%|          | 0/469 [00:00<?, ?it/s]"
      ]
     },
     "metadata": {},
     "output_type": "display_data"
    },
    {
     "data": {
      "application/vnd.jupyter.widget-view+json": {
       "model_id": "39c9194209c549ffabee94194fe16b2d",
       "version_major": 2,
       "version_minor": 0
      },
      "text/plain": [
       "evaluation:   0%|          | 0/79 [00:00<?, ?it/s]"
      ]
     },
     "metadata": {},
     "output_type": "display_data"
    },
    {
     "name": "stdout",
     "output_type": "stream",
     "text": [
      "epoche: 15,loss: 106.73, test loss: 106.28\n"
     ]
    },
    {
     "data": {
      "application/vnd.jupyter.widget-view+json": {
       "model_id": "fc43ae75e1974428b4531d072246881c",
       "version_major": 2,
       "version_minor": 0
      },
      "text/plain": [
       "training:   0%|          | 0/469 [00:00<?, ?it/s]"
      ]
     },
     "metadata": {},
     "output_type": "display_data"
    },
    {
     "data": {
      "application/vnd.jupyter.widget-view+json": {
       "model_id": "a2173b1ee1be4c46a2c4254fc1cae7b5",
       "version_major": 2,
       "version_minor": 0
      },
      "text/plain": [
       "evaluation:   0%|          | 0/79 [00:00<?, ?it/s]"
      ]
     },
     "metadata": {},
     "output_type": "display_data"
    },
    {
     "name": "stdout",
     "output_type": "stream",
     "text": [
      "epoche: 16,loss: 106.19, test loss: 105.79\n"
     ]
    },
    {
     "data": {
      "application/vnd.jupyter.widget-view+json": {
       "model_id": "23d749b79dc7479bb3dc2df59866245b",
       "version_major": 2,
       "version_minor": 0
      },
      "text/plain": [
       "training:   0%|          | 0/469 [00:00<?, ?it/s]"
      ]
     },
     "metadata": {},
     "output_type": "display_data"
    },
    {
     "data": {
      "application/vnd.jupyter.widget-view+json": {
       "model_id": "9fa9e141851c469eaacb5272557a84bc",
       "version_major": 2,
       "version_minor": 0
      },
      "text/plain": [
       "evaluation:   0%|          | 0/79 [00:00<?, ?it/s]"
      ]
     },
     "metadata": {},
     "output_type": "display_data"
    },
    {
     "name": "stdout",
     "output_type": "stream",
     "text": [
      "epoche: 17,loss: 105.72, test loss: 105.35\n"
     ]
    },
    {
     "data": {
      "application/vnd.jupyter.widget-view+json": {
       "model_id": "4934f75b0e3d4c9299258eb79f09e080",
       "version_major": 2,
       "version_minor": 0
      },
      "text/plain": [
       "training:   0%|          | 0/469 [00:00<?, ?it/s]"
      ]
     },
     "metadata": {},
     "output_type": "display_data"
    },
    {
     "data": {
      "application/vnd.jupyter.widget-view+json": {
       "model_id": "71c2dd7a9a0e4f379ffb81e4dfa00a4d",
       "version_major": 2,
       "version_minor": 0
      },
      "text/plain": [
       "evaluation:   0%|          | 0/79 [00:00<?, ?it/s]"
      ]
     },
     "metadata": {},
     "output_type": "display_data"
    },
    {
     "name": "stdout",
     "output_type": "stream",
     "text": [
      "epoche: 18,loss: 105.29, test loss: 105.14\n"
     ]
    },
    {
     "data": {
      "application/vnd.jupyter.widget-view+json": {
       "model_id": "dc637de9a32f4d7b8941802506e521ff",
       "version_major": 2,
       "version_minor": 0
      },
      "text/plain": [
       "training:   0%|          | 0/469 [00:00<?, ?it/s]"
      ]
     },
     "metadata": {},
     "output_type": "display_data"
    },
    {
     "data": {
      "application/vnd.jupyter.widget-view+json": {
       "model_id": "bf956e60e242449a94c509e2a07ec18e",
       "version_major": 2,
       "version_minor": 0
      },
      "text/plain": [
       "evaluation:   0%|          | 0/79 [00:00<?, ?it/s]"
      ]
     },
     "metadata": {},
     "output_type": "display_data"
    },
    {
     "name": "stdout",
     "output_type": "stream",
     "text": [
      "epoche: 19,loss: 104.90, test loss: 104.79\n"
     ]
    }
   ],
   "source": [
    "for num in range(20):\n",
    "    loss_ep=0\n",
    "    loss_test=0\n",
    "    model.train()\n",
    "    for X,Y in tqdm(data_loader,\"training\"):\n",
    "        optim.zero_grad()\n",
    "        X=X.to(device).reshape(X.shape[0],784)\n",
    "        #print(torch.max(X))\n",
    "        loss=torch.sum(model(X,M))\n",
    "        #print(loss.item())\n",
    "        loss.backward()\n",
    "        optim.step()\n",
    "        loss_ep+=loss.item()/len(data)\n",
    "    model.eval()\n",
    "    for X,Y in tqdm(data_loader_test,\"evaluation\"):\n",
    "        X=X.to(device).reshape(X.shape[0],784)\n",
    "        loss=torch.sum(model(X,M))\n",
    "        loss_test+=loss.item()/len(data_test)\n",
    "    print(\"epoche: {0:.0f},loss: {1:.2f}, test loss: {2:.2f}\".format(num,loss_ep,loss_test))\n"
   ]
  },
  {
   "cell_type": "code",
   "execution_count": 20,
   "metadata": {},
   "outputs": [],
   "source": [
    "test_data=torch.stack(list(map(lambda x:data_test[x][0],range(0,len(data_test)))))\n",
    "colors=list(map(lambda x:data_test[x][1],range(0,len(data_test))))\n",
    "test_data=test_data.squeeze(1).to(device).reshape(test_data.shape[0],784)\n",
    "model.eval()\n",
    "latent=model.latent(test_data).cpu().detach().numpy()"
   ]
  },
  {
   "cell_type": "code",
   "execution_count": 21,
   "metadata": {},
   "outputs": [
    {
     "name": "stderr",
     "output_type": "stream",
     "text": [
      "/home/wesenheit/.local/lib/python3.10/site-packages/sklearn/manifold/_t_sne.py:795: FutureWarning: The default initialization in TSNE will change from 'random' to 'pca' in 1.2.\n",
      "  warnings.warn(\n",
      "/home/wesenheit/.local/lib/python3.10/site-packages/sklearn/manifold/_t_sne.py:805: FutureWarning: The default learning rate in TSNE will change from 200.0 to 'auto' in 1.2.\n",
      "  warnings.warn(\n"
     ]
    }
   ],
   "source": [
    "tsne=TSNE()\n",
    "new=tsne.fit_transform(latent)"
   ]
  },
  {
   "cell_type": "code",
   "execution_count": 22,
   "metadata": {},
   "outputs": [
    {
     "data": {
      "image/png": "[encoded data removed]",
      "text/plain": [
       "<Figure size 432x288 with 1 Axes>"
      ]
     },
     "metadata": {
      "needs_background": "light"
     },
     "output_type": "display_data"
    }
   ],
   "source": [
    "plt.scatter(new[:,0],new[:,1],c=colors);\n",
    "plt.title(\"TSNE embeding of latent space\");"
   ]
  },
  {
   "cell_type": "code",
   "execution_count": 30,
   "metadata": {},
   "outputs": [],
   "source": [
    "y=model.predict(data[0][0].cuda().flatten()).reshape(-1,28,28).detach().cpu().numpy()"
   ]
  },
  {
   "cell_type": "code",
   "execution_count": 31,
   "metadata": {},
   "outputs": [
    {
     "data": {
      "text/plain": [
       "<matplotlib.image.AxesImage at 0x7fd472c60d90>"
      ]
     },
     "execution_count": 31,
     "metadata": {},
     "output_type": "execute_result"
    },
    {
     "data": {
      "image/png": "[encoded data removed]",
      "text/plain": [
       "<Figure size 432x288 with 1 Axes>"
      ]
     },
     "metadata": {
      "needs_background": "light"
     },
     "output_type": "display_data"
    }
   ],
   "source": [
    "plt.imshow(y[0])"
   ]
  },
  {
   "cell_type": "code",
   "execution_count": null,
   "metadata": {},
   "outputs": [],
   "source": []
  }
 ],
 "metadata": {
  "kernelspec": {
   "display_name": "Python 3",
   "language": "python",
   "name": "python3"
  },
  "language_info": {
   "codemirror_mode": {
    "name": "ipython",
    "version": 3
   },
   "file_extension": ".py",
   "mimetype": "text/x-python",
   "name": "python",
   "nbconvert_exporter": "python",
   "pygments_lexer": "ipython3",
   "version": "3.10.6"
  },
  "orig_nbformat": 4
 },
 "nbformat": 4,
 "nbformat_minor": 2
}
